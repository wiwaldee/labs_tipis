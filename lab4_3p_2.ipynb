{
  "nbformat": 4,
  "nbformat_minor": 0,
  "metadata": {
    "colab": {
      "provenance": []
    },
    "kernelspec": {
      "name": "python3",
      "display_name": "Python 3"
    },
    "language_info": {
      "name": "python"
    }
  },
  "cells": [
    {
      "cell_type": "code",
      "execution_count": 1,
      "metadata": {
        "colab": {
          "base_uri": "https://localhost:8080/",
          "height": 601
        },
        "id": "ZnGXX_sZziOe",
        "outputId": "8fd2980b-5ffe-481a-c544-4d5efe0bd44c"
      },
      "outputs": [
        {
          "output_type": "stream",
          "name": "stdout",
          "text": [
            "Экстремум 1: x = -92049390750946925215692570312606087625584900386657845097016901615449538879575915012555923311070721226144858644709588829507137706307616768.00000, f(x) = -92049390750946925215692570312606087625584900386657845097016901615449538879575915012555923311070721226144858644709588829507137706307616768.00000\n"
          ]
        },
        {
          "output_type": "display_data",
          "data": {
            "text/plain": [
              "<Figure size 800x600 with 1 Axes>"
            ],
            "image/png": "[encoded data removed]"
          },
          "metadata": {}
        }
      ],
      "source": [
        "# Для функции x+cos(x)=1\n",
        "import numpy as np\n",
        "import matplotlib.pyplot as plt\n",
        "from scipy.optimize import minimize\n",
        "\n",
        "# Определите функцию f(x)\n",
        "def f(x):\n",
        "    return x + np.cos(x) - 1\n",
        "\n",
        "# Определите производную функции f(x)\n",
        "def f_prime(x):\n",
        "    return 1 - np.sin(x)\n",
        "\n",
        "# Создайте массив значений x для построения графика\n",
        "x = np.linspace(-2, 2, 400)\n",
        "y = f(x)\n",
        "\n",
        "# Постройте график функции\n",
        "plt.figure(figsize=(8, 6))\n",
        "plt.plot(x, y, label='f(x) = x + cos(x) - 1', color='b')\n",
        "plt.xlabel('x')\n",
        "plt.ylabel('f(x)')\n",
        "plt.legend()\n",
        "plt.grid(True)\n",
        "plt.title('График функции f(x)')\n",
        "\n",
        "# Найдите точки экстремумов\n",
        "initial_guesses = [0.0]  # Начальные приближения для поиска экстремумов\n",
        "extrema = []\n",
        "\n",
        "for guess in initial_guesses:\n",
        "    result = minimize(f, guess, method='BFGS', jac=f_prime, tol=1e-5)\n",
        "    extrema.append(result.x[0])\n",
        "\n",
        "# Выведите найденные точки экстремумов\n",
        "for i, ext in enumerate(extrema):\n",
        "    print(f'Экстремум {i + 1}: x = {ext:.5f}, f(x) = {f(ext):.5f}')\n",
        "    plt.scatter(ext, f(ext), color='r', marker='o', label=f'Экстремум {i + 1}')\n",
        "\n",
        "plt.legend()\n",
        "plt.show()\n"
      ]
    },
    {
      "cell_type": "code",
      "source": [
        "import numpy as np\n",
        "\n",
        "x = np.pi / 2\n",
        "f_x = x + np.cos(x) - 1\n",
        "print(f'Наибольшее значение функции f(x) равно {f_x:.5f} при x = {x:.5f}')\n"
      ],
      "metadata": {
        "colab": {
          "base_uri": "https://localhost:8080/"
        },
        "id": "U6D7XZ500h4Z",
        "outputId": "ffd26ad2-fa65-4210-a323-5cdb919d0b55"
      },
      "execution_count": 2,
      "outputs": [
        {
          "output_type": "stream",
          "name": "stdout",
          "text": [
            "Наибольшее значение функции f(x) равно 0.57080 при x = 1.57080\n"
          ]
        }
      ]
    },
    {
      "cell_type": "code",
      "source": [
        "import numpy as np\n",
        "import math\n",
        "\n",
        "# Определите функцию f(x)\n",
        "def f(x):\n",
        "    return x + np.cos(x) - 1\n",
        "\n",
        "# Задайте начальные границы интервала\n",
        "a = -2.0\n",
        "b = 2.0\n",
        "\n",
        "# Задайте точность\n",
        "epsilon = 1e-6\n",
        "\n",
        "# Функция для вычисления числа Фибоначчи\n",
        "def fibonacci(n):\n",
        "    if n <= 0:\n",
        "        return 0\n",
        "    elif n == 1:\n",
        "        return 1\n",
        "    else:\n",
        "        a, b = 0, 1\n",
        "        for _ in range(2, n + 1):\n",
        "            a, b = b, a + b\n",
        "        return b\n",
        "\n",
        "# Вычисление числа итераций для чисел Фибоначчи\n",
        "n = 2\n",
        "while (b - a) / fibonacci(n) >= epsilon:\n",
        "    n += 1\n",
        "\n",
        "# Найденное значение n определяет, сколько раз нужно разделить интервал\n",
        "\n",
        "# Применение метода чисел Фибоначчи для поиска максимума\n",
        "x1 = a + (b - a) * (fibonacci(n - 2) / fibonacci(n))\n",
        "x2 = a + (b - a) * (fibonacci(n - 1) / fibonacci(n))\n",
        "\n",
        "for _ in range(n - 2):\n",
        "    if f(x1) < f(x2):\n",
        "        a = x1\n",
        "        x1 = x2\n",
        "        x2 = a + (b - a) * (fibonacci(n - 1) / fibonacci(n))\n",
        "    else:\n",
        "        b = x2\n",
        "        x2 = x1\n",
        "        x1 = a + (b - a) * (fibonacci(n - 2) / fibonacci(n))\n",
        "\n",
        "x_max = (a + b) / 2\n",
        "max_value = f(x_max)\n",
        "\n",
        "print(f'Наибольшее значение функции f(x) равно {max_value:.5f} при x = {x_max:.5f}')\n"
      ],
      "metadata": {
        "colab": {
          "base_uri": "https://localhost:8080/"
        },
        "id": "owcQ9wKO0m8Q",
        "outputId": "1b7a887a-ee8e-497e-f77d-3ff7852ea22d"
      },
      "execution_count": 3,
      "outputs": [
        {
          "output_type": "stream",
          "name": "stdout",
          "text": [
            "Наибольшее значение функции f(x) равно 0.58385 при x = 2.00000\n"
          ]
        }
      ]
    },
    {
      "cell_type": "code",
      "source": [
        "import numpy as np\n",
        "import scipy.optimize as optimize\n",
        "\n",
        "# Определите функцию f(x)\n",
        "def f(x):\n",
        "    return x + np.cos(x) - 1\n",
        "\n",
        "# Определите производную функции f(x)\n",
        "def f_prime(x):\n",
        "    return 1 - np.sin(x)\n",
        "\n",
        "# Задайте начальное значение x0\n",
        "x0 = 1.0\n",
        "\n",
        "# Используйте метод наискорейшего спуска для поиска минимума\n",
        "result = optimize.minimize(f, x0, method='BFGS', jac=f_prime)\n",
        "\n",
        "# Извлеките найденное значение x и f(x)\n",
        "x_min = result.x[0]\n",
        "min_value = result.fun\n",
        "\n",
        "print(f'Наименьшее значение функции f(x) равно {min_value:.5f} при x = {x_min:.5f}')\n",
        "\n",
        "# ????????????????????????????"
      ],
      "metadata": {
        "colab": {
          "base_uri": "https://localhost:8080/"
        },
        "id": "64zY9q3X1NsS",
        "outputId": "69c23cff-b144-4dd5-c213-3ca6a415434f"
      },
      "execution_count": 5,
      "outputs": [
        {
          "output_type": "stream",
          "name": "stdout",
          "text": [
            "Наименьшее значение функции f(x) равно -14065171434089179796573878937381124521947978882088160065126790732295690693311850439686757959073792.00000 при x = -14065171434089179796573878937381124521947978882088160065126790732295690693311850439686757959073792.00000\n"
          ]
        }
      ]
    }
  ]
}