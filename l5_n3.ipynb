{
  "nbformat": 4,
  "nbformat_minor": 0,
  "metadata": {
    "colab": {
      "provenance": []
    },
    "kernelspec": {
      "name": "python3",
      "display_name": "Python 3"
    },
    "language_info": {
      "name": "python"
    }
  },
  "cells": [
    {
      "cell_type": "code",
      "execution_count": 24,
      "metadata": {
        "id": "zfwfu2rVXMWS"
      },
      "outputs": [],
      "source": [
        "import numpy as np"
      ]
    },
    {
      "cell_type": "code",
      "source": [
        "x_value = [3.0, 3.1, 3.2, 3.3, 3.4, 3.5, 3.6, 3.7, 3.8, 3.9]\n",
        "y_value = [-0.00011, 0.543966, 1.051358, 1.469572, 1.753617, 1.870829, 1.804553, 1.556275, 1.145949, 0.610438]"
      ],
      "metadata": {
        "id": "iLSQtaRHYd2u"
      },
      "execution_count": 25,
      "outputs": []
    },
    {
      "cell_type": "code",
      "source": [
        "# Вычислим конечные разности\n",
        "delta_y = np.diff(y_value)\n",
        "\n",
        "# Экстраполяция\n",
        "y0_extrapolated = y_value[0] - delta_y[0]\n",
        "yN_extrapolated = y_value[-1] - delta_y[-1]\n",
        "print(f\"Экстраполированное значение в начале: {y0_extrapolated}\")\n",
        "print(f\"Экстраполированное значение в конце: {yN_extrapolated}\")"
      ],
      "metadata": {
        "colab": {
          "base_uri": "https://localhost:8080/"
        },
        "id": "IVmO-lkDYcjt",
        "outputId": "fa6f477d-6849-4557-8074-3452db9ed5ea"
      },
      "execution_count": 26,
      "outputs": [
        {
          "output_type": "stream",
          "name": "stdout",
          "text": [
            "Экстраполированное значение в начале: -0.5441860000000001\n",
            "Экстраполированное значение в конце: 1.145949\n"
          ]
        }
      ]
    },
    {
      "cell_type": "code",
      "source": [
        "def lagrange_interpolation(x, x_value, y_value):\n",
        "  n = len(x_value)\n",
        "  result = 0\n",
        "  for i in range(n):\n",
        "    term = y_value[i]\n",
        "    for j in range(n):\n",
        "      if j != i:\n",
        "        term *= (x - x_value[j])/(x_value[i] - x_value[j])\n",
        "    result += term\n",
        "  return result\n",
        "\n",
        "# Интреполяция для полушагов\n",
        "x_half_steps = [3.05, 3.15, 3.25, 3.35, 3.45, 3.55, 3.65, 3.75, 3.85]\n",
        "y_interpolated = [lagrange_interpolation(x, x_value, y_value) for x in x_half_steps]\n",
        "print(f\"Значения функции в полушагах: {y_interpolated}\")"
      ],
      "metadata": {
        "colab": {
          "base_uri": "https://localhost:8080/"
        },
        "id": "PQgl1k06ZmsL",
        "outputId": "c908bd90-a9eb-43be-d5de-ee1e238bd10e"
      },
      "execution_count": 28,
      "outputs": [
        {
          "output_type": "stream",
          "name": "stdout",
          "text": [
            "Значения функции в полушагах: [0.27308651704406794, 0.8056420980682354, 1.2746609579010015, 1.6307459119720462, 1.8345266233673092, 1.8609723450164797, 1.7023408493804935, 1.3694294206390394, 0.8909572843780484]\n"
          ]
        }
      ]
    },
    {
      "cell_type": "code",
      "source": [
        "def divided_differences(x, y):\n",
        "  n = len(y)\n",
        "  coef = list(y)\n",
        "  for j in range(1, n):\n",
        "    for i in range(n-1, j-1, -1):\n",
        "      coef[i] = (coef[i] - coef[i-1]) / (x[i] - x[i-j])\n",
        "    return coef\n",
        "\n",
        "def newton_poly(x, dataX, coef):\n",
        "  n = len(dataX) - 1\n",
        "  p = coef[n]\n",
        "  for k in range(1, n+1):\n",
        "    p = coef[n-k] + (x - dataX[n - k])*p\n",
        "  return p"
      ],
      "metadata": {
        "id": "glhw-fJydMeb"
      },
      "execution_count": 29,
      "outputs": []
    },
    {
      "cell_type": "code",
      "source": [
        "# Значение близкое к центру\n",
        "x_center = x_value[len(x_value) // 2]\n",
        "\n",
        "# Интерполирование методом Ньютона\n",
        "coef = divided_differences(x_value, y_value)\n",
        "y_newton = newton_poly(x_center, x_value, coef)\n",
        "\n",
        "print(f\"f({x_center}) = {y_newton}\")"
      ],
      "metadata": {
        "colab": {
          "base_uri": "https://localhost:8080/"
        },
        "id": "-c6T_g6_e0od",
        "outputId": "58f01217-75e2-49b6-a526-a23ab0dba37f"
      },
      "execution_count": 30,
      "outputs": [
        {
          "output_type": "stream",
          "name": "stdout",
          "text": [
            "f(3.5) = 4.021474343999997\n"
          ]
        }
      ]
    },
    {
      "cell_type": "code",
      "source": [
        "# Берем точку рядом с центром таблицы\n",
        "i_center = len(x_value) // 2\n",
        "x_center = x_value[i_center]\n",
        "\n",
        "# Вычислим h, преполагая, что интервалы +- одинаковые\n",
        "h = x_value[1] - x_value[0]\n",
        "\n",
        "# Производная первого порядка с использованием центральной разности\n",
        "f_prime = (y_value[i_center + 1] - y_value[i_center - 1]) / (2*h)\n",
        "\n",
        "# Производная второго порядка с использованием центральной разности\n",
        "f_double_prime = (y_value[i_center + 1] - 2*(y_value[i_center]) + y_value[i_center - 1]) / (2*h)\n",
        "\n",
        "print(f\"f'({x_center}) = {f_prime}\")\n",
        "print(f\"f''({x_center}) = {f_double_prime}\")"
      ],
      "metadata": {
        "colab": {
          "base_uri": "https://localhost:8080/"
        },
        "id": "_P0O6INif6xM",
        "outputId": "bcc438fd-2e67-4e63-ff7b-70cc42d8d550"
      },
      "execution_count": 31,
      "outputs": [
        {
          "output_type": "stream",
          "name": "stdout",
          "text": [
            "f'(3.5) = 0.25468000000000024\n",
            "f''(3.5) = -0.9174399999999997\n"
          ]
        }
      ]
    },
    {
      "cell_type": "code",
      "source": [
        "import numpy as np\n",
        "# Выберем 6 узлов данных из таблицы\n",
        "x_value = [3.0, 3.1, 3.2, 3.3, 3.4, 3.5]\n",
        "y_value = [-0.00011, 0.543966, 1.051358, 1.469572, 1.753617, 1.870829]\n",
        "\n",
        "n = len(x_value) - 1  # number of subintervals\n",
        "\n",
        "# Составим систему уравнений\n",
        "A = np.zeros((2*n, 2*n))\n",
        "b = np.zeros(2*n)\n",
        "\n",
        "for i in range(n):\n",
        "    # Уравнения для значений функции\n",
        "    A[i, 2*i:2*(i+1)] = x_value[i]**2, x_value[i]\n",
        "    b[i] = y_value[i]\n",
        "\n",
        "    # Уравнения непрерывности функций\n",
        "    if i != n-1:\n",
        "        A[n+i, 2*i:2*(i+2)] = x_value[i+1]**2, x_value[i+1], -x_value[i+1]**2, -x_value[i+1]\n",
        "        b[n+i] = y_value[i+1] - y_value[i]\n",
        "\n",
        "# Доп. условие: установка первой производной в ноль в конечных точказ\n",
        "A[-2, 0:2] = 2 * x_value[0], 1\n",
        "b[-2] = 0\n",
        "A[-1, -2:] = 2 * x_value[-1], 1\n",
        "b[-1] = 0\n",
        "\n",
        "# Поиск коэффициентов сплайна\n",
        "coeffs = np.linalg.solve(A, b)\n",
        "\n",
        "# Определим функцию сплайна\n",
        "def spline(x):\n",
        "    for i in range(n):\n",
        "        if x_value[i] <= x < x_value[i+1] or (i == n-1 and x == x_value[-1]):\n",
        "            return coeffs[2*i]*x**2 + coeffs[2*i+1]*x\n",
        "    return None\n",
        "\n",
        "# Оценка для промежуточных узлов\n",
        "intermediate_x = [(x_value[i] + x_value[i+1]) / 2 for i in range(n)]\n",
        "intermediate_y = [spline(x) for x in intermediate_x]\n",
        "\n",
        "print(\"Промежуточные значения:\")\n",
        "for x, y in zip(intermediate_x, intermediate_y):\n",
        "    print(f\"x = {x:.2f}, y = {y:.5f}\")"
      ],
      "metadata": {
        "colab": {
          "base_uri": "https://localhost:8080/"
        },
        "id": "XO1gRTvTf7Bb",
        "outputId": "15ecdf49-3aba-4a08-a209-15c4812cf035"
      },
      "execution_count": 32,
      "outputs": [
        {
          "output_type": "stream",
          "name": "stdout",
          "text": [
            "Промежуточные значения:\n",
            "x = 3.05, y = 0.53519\n",
            "x = 3.15, y = 1.04357\n",
            "x = 3.25, y = 1.46348\n",
            "x = 3.35, y = -3.57799\n",
            "x = 3.45, y = 1.75469\n"
          ]
        }
      ]
    },
    {
      "cell_type": "code",
      "source": [
        "# Примеры данных из таблицы (от 0 до 2π будем использовать выбранные значения)\n",
        "x_value = [3.0, 3.1, 3.2, 3.3, 3.4, 3.5]\n",
        "y_value = [-0.00011, 0.543966, 1.051358, 1.469572, 1.753617, 1.870829]\n",
        "\n",
        "# Предположим, что узлы расположены на одинаковом расстоянии друг от друга, вычислим h\n",
        "h = x_value[1] - x_value[0]\n",
        "\n",
        "# Коэффициенты Фурье с использованием правила трапеции\n",
        "def compute_coefficients():\n",
        "    a0 = (1/(2*np.pi)) * sum(y_value) * h\n",
        "\n",
        "    ak = []\n",
        "    bk = []\n",
        "    for k in range(1, 4):\n",
        "        ak.append((1/np.pi) * sum([y_value[i] * np.cos(k * x_value[i]) for i in range(len(x_value))]) * h)\n",
        "        bk.append((1/np.pi) * sum([y_value[i] * np.sin(k * x_value[i]) for i in range(len(x_value))]) * h)\n",
        "    return a0, ak, bk\n",
        "\n",
        "a0, ak, bk = compute_coefficients()\n",
        "\n",
        "# Тригонометрический полином\n",
        "def trig_polynomial(x):\n",
        "    result = a0/2\n",
        "    for k in range(3):\n",
        "        result += ak[k] * np.cos((k+1)*x) + bk[k] * np.sin((k+1)*x)\n",
        "    return result\n",
        "\n",
        "# Проверка полинома на отрезке [0; 2π]\n",
        "test_x = np.linspace(0, 2*np.pi, 100)\n",
        "test_y = [trig_polynomial(x) for x in test_x]\n",
        "\n",
        "# Результаты тестирования\n",
        "for x, y in zip(test_x, test_y):\n",
        "    print(f\"x = {x:.2f}, P(x) = {y:.5f}\")"
      ],
      "metadata": {
        "colab": {
          "base_uri": "https://localhost:8080/"
        },
        "id": "zQIp-Li7f7Hc",
        "outputId": "a231436d-a0a1-4ab1-9037-fb14d5d55f27"
      },
      "execution_count": 35,
      "outputs": [
        {
          "output_type": "stream",
          "name": "stdout",
          "text": [
            "x = 0.00, P(x) = -0.12495\n",
            "x = 0.06, P(x) = -0.13739\n",
            "x = 0.13, P(x) = -0.14569\n",
            "x = 0.19, P(x) = -0.14948\n",
            "x = 0.25, P(x) = -0.14861\n",
            "x = 0.32, P(x) = -0.14309\n",
            "x = 0.38, P(x) = -0.13319\n",
            "x = 0.44, P(x) = -0.11933\n",
            "x = 0.51, P(x) = -0.10216\n",
            "x = 0.57, P(x) = -0.08243\n",
            "x = 0.63, P(x) = -0.06104\n",
            "x = 0.70, P(x) = -0.03898\n",
            "x = 0.76, P(x) = -0.01726\n",
            "x = 0.83, P(x) = 0.00309\n",
            "x = 0.89, P(x) = 0.02110\n",
            "x = 0.95, P(x) = 0.03585\n",
            "x = 1.02, P(x) = 0.04660\n",
            "x = 1.08, P(x) = 0.05272\n",
            "x = 1.14, P(x) = 0.05379\n",
            "x = 1.21, P(x) = 0.04959\n",
            "x = 1.27, P(x) = 0.04016\n",
            "x = 1.33, P(x) = 0.02572\n",
            "x = 1.40, P(x) = 0.00677\n",
            "x = 1.46, P(x) = -0.01603\n",
            "x = 1.52, P(x) = -0.04176\n",
            "x = 1.59, P(x) = -0.06938\n",
            "x = 1.65, P(x) = -0.09770\n",
            "x = 1.71, P(x) = -0.12544\n",
            "x = 1.78, P(x) = -0.15126\n",
            "x = 1.84, P(x) = -0.17384\n",
            "x = 1.90, P(x) = -0.19190\n",
            "x = 1.97, P(x) = -0.20427\n",
            "x = 2.03, P(x) = -0.20991\n",
            "x = 2.09, P(x) = -0.20797\n",
            "x = 2.16, P(x) = -0.19784\n",
            "x = 2.22, P(x) = -0.17914\n",
            "x = 2.28, P(x) = -0.15176\n",
            "x = 2.35, P(x) = -0.11589\n",
            "x = 2.41, P(x) = -0.07199\n",
            "x = 2.48, P(x) = -0.02081\n",
            "x = 2.54, P(x) = 0.03666\n",
            "x = 2.60, P(x) = 0.09917\n",
            "x = 2.67, P(x) = 0.16529\n",
            "x = 2.73, P(x) = 0.23345\n",
            "x = 2.79, P(x) = 0.30193\n",
            "x = 2.86, P(x) = 0.36900\n",
            "x = 2.92, P(x) = 0.43289\n",
            "x = 2.98, P(x) = 0.49192\n",
            "x = 3.05, P(x) = 0.54448\n",
            "x = 3.11, P(x) = 0.58915\n",
            "x = 3.17, P(x) = 0.62471\n",
            "x = 3.24, P(x) = 0.65016\n",
            "x = 3.30, P(x) = 0.66481\n",
            "x = 3.36, P(x) = 0.66823\n",
            "x = 3.43, P(x) = 0.66035\n",
            "x = 3.49, P(x) = 0.64137\n",
            "x = 3.55, P(x) = 0.61182\n",
            "x = 3.62, P(x) = 0.57253\n",
            "x = 3.68, P(x) = 0.52457\n",
            "x = 3.74, P(x) = 0.46925\n",
            "x = 3.81, P(x) = 0.40807\n",
            "x = 3.87, P(x) = 0.34268\n",
            "x = 3.93, P(x) = 0.27479\n",
            "x = 4.00, P(x) = 0.20618\n",
            "x = 4.06, P(x) = 0.13857\n",
            "x = 4.13, P(x) = 0.07362\n",
            "x = 4.19, P(x) = 0.01288\n",
            "x = 4.25, P(x) = -0.04231\n",
            "x = 4.32, P(x) = -0.09079\n",
            "x = 4.38, P(x) = -0.13166\n",
            "x = 4.44, P(x) = -0.16427\n",
            "x = 4.51, P(x) = -0.18828\n",
            "x = 4.57, P(x) = -0.20362\n",
            "x = 4.63, P(x) = -0.21048\n",
            "x = 4.70, P(x) = -0.20935\n",
            "x = 4.76, P(x) = -0.20095\n",
            "x = 4.82, P(x) = -0.18618\n",
            "x = 4.89, P(x) = -0.16616\n",
            "x = 4.95, P(x) = -0.14210\n",
            "x = 5.01, P(x) = -0.11530\n",
            "x = 5.08, P(x) = -0.08711\n",
            "x = 5.14, P(x) = -0.05883\n",
            "x = 5.20, P(x) = -0.03172\n",
            "x = 5.27, P(x) = -0.00693\n",
            "x = 5.33, P(x) = 0.01455\n",
            "x = 5.39, P(x) = 0.03190\n",
            "x = 5.46, P(x) = 0.04451\n",
            "x = 5.52, P(x) = 0.05200\n",
            "x = 5.59, P(x) = 0.05420\n",
            "x = 5.65, P(x) = 0.05118\n",
            "x = 5.71, P(x) = 0.04325\n",
            "x = 5.78, P(x) = 0.03090\n",
            "x = 5.84, P(x) = 0.01480\n",
            "x = 5.90, P(x) = -0.00422\n",
            "x = 5.97, P(x) = -0.02522\n",
            "x = 6.03, P(x) = -0.04721\n",
            "x = 6.09, P(x) = -0.06916\n",
            "x = 6.16, P(x) = -0.09005\n",
            "x = 6.22, P(x) = -0.10893\n",
            "x = 6.28, P(x) = -0.12495\n"
          ]
        }
      ]
    },
    {
      "cell_type": "code",
      "source": [
        "# Примеры данных из таблицы\n",
        "x_value = [3.0, 3.1, 3.2, 3.3, 3.4, 3.5]\n",
        "y_value = [-0.00011, 0.543966, 1.051358, 1.469572, 1.753617, 1.870829]\n",
        "\n",
        "# Вычислим начальное отклонение\n",
        "y_mean = np.mean(y_value)\n",
        "initial_std_dev = np.sqrt(np.mean((y_value - y_mean)**2))\n",
        "\n",
        "for degree in range(1, len(x_value)):  # We can fit up to degree (n-1) for n data points\n",
        "    # Подбор многочлена заданной степени\n",
        "    coeffs = np.polyfit(x_value, y_value, degree)\n",
        "    p = np.poly1d(coeffs)\n",
        "\n",
        "    # Считаем подобранные значения y\n",
        "    y_fitted = p(x_value)\n",
        "\n",
        "    # Считаем среднеквадратичное отклонение\n",
        "    rmse = np.sqrt(np.mean((y_value - y_fitted)**2))\n",
        "\n",
        "    # Показатель качества\n",
        "    quality = rmse / initial_std_dev\n",
        "\n",
        "    print(f\"Степень: {degree}, Качество (Среднеквадр. отклонение/Нач. станд. отклонение): {quality:.5f}\")\n"
      ],
      "metadata": {
        "colab": {
          "base_uri": "https://localhost:8080/"
        },
        "id": "KuodaDbyomP8",
        "outputId": "befc6078-7ca5-4c99-c127-05e9a6e725fc"
      },
      "execution_count": 37,
      "outputs": [
        {
          "output_type": "stream",
          "name": "stdout",
          "text": [
            "Степень: 1, Качество (Среднеквадр. отклонение/Нач. станд. отклонение): 0.20501\n",
            "Степень: 2, Качество (Среднеквадр. отклонение/Нач. станд. отклонение): 0.03586\n",
            "Степень: 3, Качество (Среднеквадр. отклонение/Нач. станд. отклонение): 0.00230\n",
            "Степень: 4, Качество (Среднеквадр. отклонение/Нач. станд. отклонение): 0.00019\n",
            "Степень: 5, Качество (Среднеквадр. отклонение/Нач. станд. отклонение): 0.00000\n"
          ]
        }
      ]
    }
  ]
}